{
 "cells": [
  {
   "cell_type": "code",
   "execution_count": 1,
   "id": "622c424f",
   "metadata": {},
   "outputs": [],
   "source": [
    "import numpy as np\n",
    "import pandas as pd\n",
    "from scipy.interpolate import interp1d\n",
    "from scipy.stats import hypergeom, beta, norm\n",
    "from scipy.optimize import curve_fit\n",
    "from sklearn.model_selection import train_test_split\n",
    "from xgboost import XGBRegressor\n",
    "import random\n",
    "import matplotlib.pyplot as plt"
   ]
  },
  {
   "cell_type": "code",
   "execution_count": 2,
   "id": "3b9fbfbf",
   "metadata": {},
   "outputs": [],
   "source": [
    "def quality(N=1000, n=15, k=10, P_threshold_factor = 10, plot = True):\n",
    "    K = np.array(range(k, N+1))\n",
    "    P = hypergeom.pmf(k, N, K, n)\n",
    "    P_threshold = P.max() / P_threshold_factor\n",
    "    idx = np.where(P >= P_threshold)[0]\n",
    "\n",
    "    if plot:\n",
    "        fig = plt.figure(1)\n",
    "        fig.set_size_inches(10, 5)\n",
    "        ax = fig.add_subplot(111)\n",
    "        ax.plot(K/N, P, color='b', ls='-', marker='')\n",
    "        ax.set_xlabel('K/N')\n",
    "        ax.set_ylabel('$P|_{k=%d}$' % k)\n",
    "        ax.set_title('Hypergeometric PMF')\n",
    "        ax.axhline(P_threshold, color='r', ls='--')\n",
    "        ax.vlines([K[idx[0]]/N, K[idx[-1]]/N], [0,0], [P.max(), P.max()], color='k', ls='--', lw=2)\n",
    "        ax.set_title('n=%d, k=%d, Kmin=%.2f, Kmax=%.2f' % (n, k, K[idx[0]]/N, K[idx[-1]]/N))\n",
    "        plt.grid()\n",
    "        plt.show()\n",
    "    return np.array([K[idx[0]]/N, K[idx[-1]]/N])\n",
    "\n",
    "def cdf_model(x, params, kind):\n",
    "    if kind == 'normal':\n",
    "        return 1 - norm.cdf(x, loc=params[0], scale=params[1])\n",
    "    elif kind == 'beta':\n",
    "        return 1 - beta.cdf(x, params[0], params[1])\n",
    "    else:\n",
    "        print('cdf model error: kind should be \"normal\" or \"beta\"')\n",
    "\n",
    "def pdf_model(x, params, kind):\n",
    "    if kind == 'normal':\n",
    "        return norm.pdf(x, loc=params[0], scale=params[1])\n",
    "    elif kind == 'beta':\n",
    "        return beta.pdf(x, params[0], params[1])\n",
    "    else:\n",
    "        print('pdf model error: kind should be \"normal\" or \"beta\"')\n",
    "\n",
    "def rvs(params, size, kind):\n",
    "    if kind == 'normal':\n",
    "        return norm.rvs(loc=params[0], scale=params[1], size = size)\n",
    "    elif kind == 'beta':\n",
    "        return beta.rvs(a=params[0], b=params[1], size=size)\n",
    "    else:\n",
    "        print('rvs error: kind should be \"normal\" or \"beta\"')\n",
    "\n",
    "def params_bounds(kind):\n",
    "    if kind == 'normal':\n",
    "        return ([1e-3, 1-1e-3], [1e-3, 1/6])\n",
    "    elif kind == 'beta':\n",
    "        return ([1, 5], [1, 5])\n",
    "    else:\n",
    "        print('params lim error: kind should be \"normal\" or \"beta\"')\n",
    "\n",
    "def init_guess(kind):\n",
    "    if kind == 'normal':\n",
    "        return [0.5, 1/6]\n",
    "    elif kind == 'beta':\n",
    "        return [1.1, 1.1]\n",
    "    else:\n",
    "        print('init guess error: kind should be \"normal\" or \"beta\"')\n",
    "\n",
    "def rmse(y_true, y_pred):\n",
    "    for col in range(y_true.shape[1]):\n",
    "        r = np.sqrt(np.mean((y_true[:, col] - y_pred[:, col])**2))\n",
    "        print('RMSE for column %d: %.4f' % (col, r))\n",
    "\n",
    "def mae(y_true, y_pred):\n",
    "    for col in range(y_true.shape[1]):\n",
    "        r = np.mean(np.abs(y_true[:, col] - y_pred[:, col]))\n",
    "        print('MAE for column %d: %.4f' % (col, r))"
   ]
  },
  {
   "cell_type": "code",
   "execution_count": 3,
   "id": "4810b3fc",
   "metadata": {},
   "outputs": [
    {
     "name": "stdout",
     "output_type": "stream",
     "text": [
      "iter_num = 112500\n"
     ]
    }
   ],
   "source": [
    "kind = 'normal'\n",
    "\n",
    "n = 10\n",
    "samples = np.zeros(n+2, dtype=float)\n",
    "samples[-1] = 1.0\n",
    "\n",
    "K = np.array(list(map(lambda x: quality(N = n*100, n = n, k = x, P_threshold_factor=10, plot=False), range(n, 0, -1))))\n",
    "Kmin = np.append(np.append([1.0], K[:, 0]), [0.0])\n",
    "Kmax = np.append(np.append([1.0], K[:, 1]), [0.0])\n",
    "\n",
    "x = np.linspace(0, 1, 101)\n",
    "p1_n, p2_n , n_0 = 15, 15, 500\n",
    "\n",
    "iter_num = p1_n * p2_n * n_0\n",
    "print('iter_num = %d' % iter_num)"
   ]
  },
  {
   "cell_type": "code",
   "execution_count": 4,
   "id": "b67b37ad",
   "metadata": {},
   "outputs": [],
   "source": [
    "# Interpolation\n",
    "p1 = np.zeros(iter_num)\n",
    "p2 = np.zeros(iter_num)\n",
    "\n",
    "x1 = np.zeros((iter_num, x.size))\n",
    "x2 = np.zeros((iter_num, x.size))\n",
    "\n",
    "sampling_params = np.zeros((iter_num, 2))\n",
    "\n",
    "p1_bounds, p2_bounds = params_bounds(kind)\n",
    "i = -1\n",
    "for a in np.linspace(p1_bounds[0], p1_bounds[1], p1_n):\n",
    "    for b in np.linspace(p2_bounds[0], p2_bounds[1], p2_n):\n",
    "        for j in range(n_0):\n",
    "            i += 1\n",
    "            p1[i] = a\n",
    "            p2[i] = b\n",
    "            samples[1:-1] = np.sort(rvs([a, b], size = n, kind=kind))\n",
    "            mean = np.mean(samples[1:-1])\n",
    "            std = np.std(samples[1:-1], ddof=1)\n",
    "            var = std**2\n",
    "            if kind == 'normal':\n",
    "                sampling_params[i] = [mean, std]\n",
    "            elif kind == 'beta':\n",
    "                coeff = mean * (1 - mean) / var - 1\n",
    "                sampling_params[i,0] = coeff * mean\n",
    "                sampling_params[i,1] = coeff * (1 - mean)            \n",
    "            x1[i,:] = interp1d(samples, Kmin, kind='linear')(x)\n",
    "            x2[i,:] = interp1d(samples, Kmax, kind='linear')(x)\n",
    "x1 = np.array(x1)\n",
    "x2 = np.array(x2)\n",
    "y = np.vstack((p1, p2)).T"
   ]
  },
  {
   "cell_type": "code",
   "execution_count": null,
   "id": "ec292411",
   "metadata": {},
   "outputs": [],
   "source": [
    "# Fitting\n",
    "from scipy.optimize import minimize\n",
    "def loss_min(params):\n",
    "    return np.mean((x1[i] - cdf_model(x, params, kind))**2)\n",
    "def loss_max(params):\n",
    "    return np.mean((x2[i] - cdf_model(x, params, kind))**2)\n",
    "\n",
    "bounds = np.array([np.array(params_bounds(kind)).T[0] * 0.5, np.array(params_bounds(kind)).T[1] * 1.5]).T\n",
    "\n",
    "xf = np.zeros((iter_num, 4))\n",
    "for i in range(iter_num):\n",
    "    xf[i,:2] = minimize(loss_min, init_guess(kind), method='Nelder-Mead', bounds=bounds).x\n",
    "    xf[i,2:] = minimize(loss_max, init_guess(kind), method='Nelder-Mead', bounds=bounds).x\n"
   ]
  },
  {
   "cell_type": "code",
   "execution_count": null,
   "id": "2ebe2c69",
   "metadata": {},
   "outputs": [
    {
     "name": "stdout",
     "output_type": "stream",
     "text": [
      "RMSE for column 0: 0.0338\n",
      "RMSE for column 1: 0.0263\n"
     ]
    }
   ],
   "source": [
    "# Modeling\n",
    "x_train, x_test, y_train, y_test, _, x1_test, _, x2_test, _, xc_test = \\\n",
    "    train_test_split(xf, y, x1, x2, sampling_params, test_size=0.3, random_state=15)\n",
    "xgb = XGBRegressor(objective='reg:squarederror', \n",
    "                   colsample_bytree=0.1,\n",
    "                   learning_rate=0.2,\n",
    "                   max_depth=15,\n",
    "                   n_estimators=200,\n",
    "                   booster=\"gbtree\",\n",
    "                   eval_metric=\"rmse\",\n",
    "                   subsample=1.0,\n",
    "                   reg_alpha=0.0,\n",
    "                   reg_lambda=0.0,\n",
    "                   random_state=123,\n",
    "                   eta=0.1,\n",
    "                   gamma=0.0\n",
    "                  )\n",
    "xgb.fit(x_train, y_train)\n",
    "y_pred = xgb.predict(x_test)\n",
    "rmse(y_test, y_pred)"
   ]
  },
  {
   "cell_type": "code",
   "execution_count": null,
   "id": "2fd39dd6",
   "metadata": {},
   "outputs": [
    {
     "name": "stdout",
     "output_type": "stream",
     "text": [
      "i = 10585\n"
     ]
    },
    {
     "ename": "ValueError",
     "evalue": "x and y must have same first dimension, but have shapes (101,) and (801,)",
     "output_type": "error",
     "traceback": [
      "\u001b[31m---------------------------------------------------------------------------\u001b[39m",
      "\u001b[31mValueError\u001b[39m                                Traceback (most recent call last)",
      "\u001b[36mCell\u001b[39m\u001b[36m \u001b[39m\u001b[32mIn[13]\u001b[39m\u001b[32m, line 12\u001b[39m\n\u001b[32m      9\u001b[39m ax.plot(x, cdf_model(x, x_test[i,:\u001b[32m2\u001b[39m], kind), color=\u001b[33m'\u001b[39m\u001b[33mb\u001b[39m\u001b[33m'\u001b[39m, ls=\u001b[33m'\u001b[39m\u001b[33m--\u001b[39m\u001b[33m'\u001b[39m, marker=\u001b[33m'\u001b[39m\u001b[33m'\u001b[39m)\n\u001b[32m     10\u001b[39m ax.plot(x, cdf_model(x, x_test[i,\u001b[32m2\u001b[39m:], kind), color=\u001b[33m'\u001b[39m\u001b[33mb\u001b[39m\u001b[33m'\u001b[39m, ls=\u001b[33m'\u001b[39m\u001b[33m--\u001b[39m\u001b[33m'\u001b[39m, marker=\u001b[33m'\u001b[39m\u001b[33m'\u001b[39m)\n\u001b[32m---> \u001b[39m\u001b[32m12\u001b[39m \u001b[43max\u001b[49m\u001b[43m.\u001b[49m\u001b[43mplot\u001b[49m\u001b[43m(\u001b[49m\u001b[43mx\u001b[49m\u001b[43m,\u001b[49m\u001b[43m \u001b[49m\u001b[43mx1_test\u001b[49m\u001b[43m[\u001b[49m\u001b[43mi\u001b[49m\u001b[43m]\u001b[49m\u001b[43m,\u001b[49m\u001b[43m \u001b[49m\u001b[43mcolor\u001b[49m\u001b[43m=\u001b[49m\u001b[33;43m'\u001b[39;49m\u001b[33;43mg\u001b[39;49m\u001b[33;43m'\u001b[39;49m\u001b[43m,\u001b[49m\u001b[43m \u001b[49m\u001b[43mls\u001b[49m\u001b[43m=\u001b[49m\u001b[33;43m'\u001b[39;49m\u001b[33;43mnone\u001b[39;49m\u001b[33;43m'\u001b[39;49m\u001b[43m,\u001b[49m\u001b[43m \u001b[49m\u001b[43mmarker\u001b[49m\u001b[43m=\u001b[49m\u001b[33;43m'\u001b[39;49m\u001b[33;43m.\u001b[39;49m\u001b[33;43m'\u001b[39;49m\u001b[43m)\u001b[49m\n\u001b[32m     13\u001b[39m ax.plot(x, x2_test[i], color=\u001b[33m'\u001b[39m\u001b[33mg\u001b[39m\u001b[33m'\u001b[39m, ls=\u001b[33m'\u001b[39m\u001b[33mnone\u001b[39m\u001b[33m'\u001b[39m, marker=\u001b[33m'\u001b[39m\u001b[33m.\u001b[39m\u001b[33m'\u001b[39m)\n\u001b[32m     15\u001b[39m ax.plot(x, cdf_model(x, xc_test[i], kind), color=\u001b[33m'\u001b[39m\u001b[33mgray\u001b[39m\u001b[33m'\u001b[39m, ls=\u001b[33m'\u001b[39m\u001b[33m--\u001b[39m\u001b[33m'\u001b[39m, marker=\u001b[33m'\u001b[39m\u001b[33m'\u001b[39m)\n",
      "\u001b[36mFile \u001b[39m\u001b[32m~/GitHub/quality_control_room/py/.venv/lib/python3.12/site-packages/matplotlib/axes/_axes.py:1777\u001b[39m, in \u001b[36mAxes.plot\u001b[39m\u001b[34m(self, scalex, scaley, data, *args, **kwargs)\u001b[39m\n\u001b[32m   1534\u001b[39m \u001b[38;5;250m\u001b[39m\u001b[33;03m\"\"\"\u001b[39;00m\n\u001b[32m   1535\u001b[39m \u001b[33;03mPlot y versus x as lines and/or markers.\u001b[39;00m\n\u001b[32m   1536\u001b[39m \n\u001b[32m   (...)\u001b[39m\u001b[32m   1774\u001b[39m \u001b[33;03m(``'green'``) or hex strings (``'#008000'``).\u001b[39;00m\n\u001b[32m   1775\u001b[39m \u001b[33;03m\"\"\"\u001b[39;00m\n\u001b[32m   1776\u001b[39m kwargs = cbook.normalize_kwargs(kwargs, mlines.Line2D)\n\u001b[32m-> \u001b[39m\u001b[32m1777\u001b[39m lines = [*\u001b[38;5;28mself\u001b[39m._get_lines(\u001b[38;5;28mself\u001b[39m, *args, data=data, **kwargs)]\n\u001b[32m   1778\u001b[39m \u001b[38;5;28;01mfor\u001b[39;00m line \u001b[38;5;129;01min\u001b[39;00m lines:\n\u001b[32m   1779\u001b[39m     \u001b[38;5;28mself\u001b[39m.add_line(line)\n",
      "\u001b[36mFile \u001b[39m\u001b[32m~/GitHub/quality_control_room/py/.venv/lib/python3.12/site-packages/matplotlib/axes/_base.py:297\u001b[39m, in \u001b[36m_process_plot_var_args.__call__\u001b[39m\u001b[34m(self, axes, data, return_kwargs, *args, **kwargs)\u001b[39m\n\u001b[32m    295\u001b[39m     this += args[\u001b[32m0\u001b[39m],\n\u001b[32m    296\u001b[39m     args = args[\u001b[32m1\u001b[39m:]\n\u001b[32m--> \u001b[39m\u001b[32m297\u001b[39m \u001b[38;5;28;01myield from\u001b[39;00m \u001b[38;5;28;43mself\u001b[39;49m\u001b[43m.\u001b[49m\u001b[43m_plot_args\u001b[49m\u001b[43m(\u001b[49m\n\u001b[32m    298\u001b[39m \u001b[43m    \u001b[49m\u001b[43maxes\u001b[49m\u001b[43m,\u001b[49m\u001b[43m \u001b[49m\u001b[43mthis\u001b[49m\u001b[43m,\u001b[49m\u001b[43m \u001b[49m\u001b[43mkwargs\u001b[49m\u001b[43m,\u001b[49m\u001b[43m \u001b[49m\u001b[43mambiguous_fmt_datakey\u001b[49m\u001b[43m=\u001b[49m\u001b[43mambiguous_fmt_datakey\u001b[49m\u001b[43m,\u001b[49m\n\u001b[32m    299\u001b[39m \u001b[43m    \u001b[49m\u001b[43mreturn_kwargs\u001b[49m\u001b[43m=\u001b[49m\u001b[43mreturn_kwargs\u001b[49m\n\u001b[32m    300\u001b[39m \u001b[43m\u001b[49m\u001b[43m)\u001b[49m\n",
      "\u001b[36mFile \u001b[39m\u001b[32m~/GitHub/quality_control_room/py/.venv/lib/python3.12/site-packages/matplotlib/axes/_base.py:494\u001b[39m, in \u001b[36m_process_plot_var_args._plot_args\u001b[39m\u001b[34m(self, axes, tup, kwargs, return_kwargs, ambiguous_fmt_datakey)\u001b[39m\n\u001b[32m    491\u001b[39m     axes.yaxis.update_units(y)\n\u001b[32m    493\u001b[39m \u001b[38;5;28;01mif\u001b[39;00m x.shape[\u001b[32m0\u001b[39m] != y.shape[\u001b[32m0\u001b[39m]:\n\u001b[32m--> \u001b[39m\u001b[32m494\u001b[39m     \u001b[38;5;28;01mraise\u001b[39;00m \u001b[38;5;167;01mValueError\u001b[39;00m(\u001b[33mf\u001b[39m\u001b[33m\"\u001b[39m\u001b[33mx and y must have same first dimension, but \u001b[39m\u001b[33m\"\u001b[39m\n\u001b[32m    495\u001b[39m                      \u001b[33mf\u001b[39m\u001b[33m\"\u001b[39m\u001b[33mhave shapes \u001b[39m\u001b[38;5;132;01m{\u001b[39;00mx.shape\u001b[38;5;132;01m}\u001b[39;00m\u001b[33m and \u001b[39m\u001b[38;5;132;01m{\u001b[39;00my.shape\u001b[38;5;132;01m}\u001b[39;00m\u001b[33m\"\u001b[39m)\n\u001b[32m    496\u001b[39m \u001b[38;5;28;01mif\u001b[39;00m x.ndim > \u001b[32m2\u001b[39m \u001b[38;5;129;01mor\u001b[39;00m y.ndim > \u001b[32m2\u001b[39m:\n\u001b[32m    497\u001b[39m     \u001b[38;5;28;01mraise\u001b[39;00m \u001b[38;5;167;01mValueError\u001b[39;00m(\u001b[33mf\u001b[39m\u001b[33m\"\u001b[39m\u001b[33mx and y can be no greater than 2D, but have \u001b[39m\u001b[33m\"\u001b[39m\n\u001b[32m    498\u001b[39m                      \u001b[33mf\u001b[39m\u001b[33m\"\u001b[39m\u001b[33mshapes \u001b[39m\u001b[38;5;132;01m{\u001b[39;00mx.shape\u001b[38;5;132;01m}\u001b[39;00m\u001b[33m and \u001b[39m\u001b[38;5;132;01m{\u001b[39;00my.shape\u001b[38;5;132;01m}\u001b[39;00m\u001b[33m\"\u001b[39m)\n",
      "\u001b[31mValueError\u001b[39m: x and y must have same first dimension, but have shapes (101,) and (801,)"
     ]
    },
    {
     "data": {
      "image/png": "[encoded data removed]",
      "text/plain": [
       "<Figure size 1200x500 with 1 Axes>"
      ]
     },
     "metadata": {},
     "output_type": "display_data"
    }
   ],
   "source": [
    "i = random.randint(0, y_test.shape[0]-1)\n",
    "print('i = %d' % i)\n",
    "\n",
    "fig = plt.figure(1)\n",
    "fig.set_size_inches(12, 5)\n",
    "ax = fig.add_subplot(121)\n",
    "ax.plot(x, cdf_model(x, y_test[i], kind), color='m', ls='-', marker='')\n",
    "ax.plot(x, cdf_model(x, y_pred[i], kind), color='g', ls='-', marker='')\n",
    "ax.plot(x, cdf_model(x, x_test[i,:2], kind), color='b', ls='--', marker='')\n",
    "ax.plot(x, cdf_model(x, x_test[i,2:], kind), color='b', ls='--', marker='')\n",
    "\n",
    "ax.plot(x, x1_test[i], color='g', ls='none', marker='.')\n",
    "ax.plot(x, x2_test[i], color='g', ls='none', marker='.')\n",
    "\n",
    "ax.plot(x, cdf_model(x, xc_test[i], kind), color='gray', ls='--', marker='')\n",
    "\n",
    "\n",
    "ax.set_xlabel('x')\n",
    "ax.set_ylabel('$P(ksi > x)$')\n",
    "ax.set_title('1 - CDF(a = %.2f, b = %.2f)' % (y_test[i, 0], y_test[i, 1]))\n",
    "ax.grid()\n",
    "\n",
    "ax = fig.add_subplot(122)\n",
    "ax.plot(x, pdf_model(x, y_test[i], kind), color='m', ls='-', marker='')\n",
    "ax.plot(x, pdf_model(x, y_pred[i], kind), color='g', ls='-', marker='')\n",
    "ax.plot(x, pdf_model(x, xc_test[i], kind), color='gray', ls='--', marker='')\n",
    "ax.set_xlabel('x')\n",
    "ax.set_ylabel('$rho(x)$')\n",
    "ax.set_title('PDF(a = %.2f, b = %.2f)' % (y_test[i, 0], y_test[i, 1]))\n",
    "ax.grid()\n",
    "plt.show()"
   ]
  },
  {
   "cell_type": "code",
   "execution_count": null,
   "id": "859a7a41",
   "metadata": {},
   "outputs": [
    {
     "name": "stdout",
     "output_type": "stream",
     "text": [
      "10\n",
      "RMSE for column 0: 0.0311\n",
      "RMSE for column 1: 0.0231\n",
      "RMSE for column 0: 0.0338\n",
      "RMSE for column 1: 0.0263\n",
      "MAE for column 0: 0.0212\n",
      "MAE for column 1: 0.0158\n",
      "MAE for column 0: 0.0233\n",
      "MAE for column 1: 0.0200\n"
     ]
    }
   ],
   "source": [
    "# How predicted distribution better than normal distribution with sampling mean and std?\n",
    "print(n)\n",
    "\n",
    "rmse(y_test, xc_test)\n",
    "rmse(y_test, y_pred)\n",
    "\n",
    "mae(y_test, xc_test)\n",
    "mae(y_test, y_pred)\n"
   ]
  },
  {
   "cell_type": "code",
   "execution_count": null,
   "id": "9ab3331d",
   "metadata": {},
   "outputs": [],
   "source": []
  }
 ],
 "metadata": {
  "kernelspec": {
   "display_name": ".venv",
   "language": "python",
   "name": "python3"
  },
  "language_info": {
   "codemirror_mode": {
    "name": "ipython",
    "version": 3
   },
   "file_extension": ".py",
   "mimetype": "text/x-python",
   "name": "python",
   "nbconvert_exporter": "python",
   "pygments_lexer": "ipython3",
   "version": "3.12.7"
  }
 },
 "nbformat": 4,
 "nbformat_minor": 5
}
